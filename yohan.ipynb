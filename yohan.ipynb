{
  "nbformat": 4,
  "nbformat_minor": 0,
  "metadata": {
    "colab": {
      "provenance": [],
      "authorship_tag": "ABX9TyP0IMpmnTHbnT/ac15VDasN",
      "include_colab_link": true
    },
    "kernelspec": {
      "name": "python3",
      "display_name": "Python 3"
    },
    "language_info": {
      "name": "python"
    }
  },
  "cells": [
    {
      "cell_type": "markdown",
      "metadata": {
        "id": "view-in-github",
        "colab_type": "text"
      },
      "source": [
        "<a href=\"https://colab.research.google.com/github/wint3rx3/quiz-whale-ai/blob/main/yohan.ipynb\" target=\"_parent\"><img src=\"https://colab.research.google.com/assets/colab-badge.svg\" alt=\"Open In Colab\"/></a>"
      ]
    },
    {
      "cell_type": "code",
      "execution_count": 1,
      "metadata": {
        "colab": {
          "base_uri": "https://localhost:8080/"
        },
        "id": "eUayqSxqe7pL",
        "outputId": "7c57d56d-79e0-423b-b1aa-53a423201361"
      },
      "outputs": [
        {
          "output_type": "stream",
          "name": "stdout",
          "text": [
            "Mounted at /content/drive\n"
          ]
        }
      ],
      "source": [
        "from google.colab import drive\n",
        "drive.mount('/content/drive')"
      ]
    },
    {
      "cell_type": "code",
      "source": [
        "cd \"/content/drive/MyDrive/Colab Notebooks\""
      ],
      "metadata": {
        "colab": {
          "base_uri": "https://localhost:8080/"
        },
        "id": "NCevhSJ8gHPp",
        "outputId": "0240f2b9-1dc7-4f14-f860-e6dfed894dee"
      },
      "execution_count": 2,
      "outputs": [
        {
          "output_type": "stream",
          "name": "stdout",
          "text": [
            "/content/drive/MyDrive/Colab Notebooks\n"
          ]
        }
      ]
    },
    {
      "cell_type": "code",
      "source": [
        "!git clone https://github.com/wint3rx3/quiz-whale-ai"
      ],
      "metadata": {
        "colab": {
          "base_uri": "https://localhost:8080/"
        },
        "id": "yVEVE9zrgmSP",
        "outputId": "e3218496-7bde-4a43-9ef5-e3f8c185021c"
      },
      "execution_count": 3,
      "outputs": [
        {
          "output_type": "stream",
          "name": "stdout",
          "text": [
            "fatal: destination path 'quiz-whale-ai' already exists and is not an empty directory.\n"
          ]
        }
      ]
    },
    {
      "cell_type": "code",
      "source": [
        "pip install PyPDF2"
      ],
      "metadata": {
        "colab": {
          "base_uri": "https://localhost:8080/"
        },
        "id": "P5RiYD7ugqty",
        "outputId": "0b6a0104-b61c-4b8c-fdee-41cf81c6dc3f"
      },
      "execution_count": 10,
      "outputs": [
        {
          "output_type": "stream",
          "name": "stdout",
          "text": [
            "Collecting PyPDF2\n",
            "  Downloading pypdf2-3.0.1-py3-none-any.whl.metadata (6.8 kB)\n",
            "Downloading pypdf2-3.0.1-py3-none-any.whl (232 kB)\n",
            "\u001b[?25l   \u001b[90m━━━━━━━━━━━━━━━━━━━━━━━━━━━━━━━━━━━━━━━━\u001b[0m \u001b[32m0.0/232.6 kB\u001b[0m \u001b[31m?\u001b[0m eta \u001b[36m-:--:--\u001b[0m\r\u001b[2K   \u001b[90m━━━━━━━━━━━━━━━━━━━━━━━━━━━━━━━━━━━━━━━━\u001b[0m \u001b[32m232.6/232.6 kB\u001b[0m \u001b[31m11.7 MB/s\u001b[0m eta \u001b[36m0:00:00\u001b[0m\n",
            "\u001b[?25hInstalling collected packages: PyPDF2\n",
            "Successfully installed PyPDF2-3.0.1\n"
          ]
        }
      ]
    },
    {
      "cell_type": "code",
      "source": [
        "import PyPDF2\n",
        "import json\n",
        "import re\n",
        "\n",
        "def clean_text(text):\n",
        "    \"\"\"\n",
        "    텍스트 내 제어 문자(ASCII 0~31)를 제거합니다.\n",
        "    필요에 따라 추가적인 정제 작업(예: 불필요한 공백 제거 등)을 할 수 있습니다.\n",
        "    \"\"\"\n",
        "    # ASCII 0~31 (줄바꿈, 탭 등 제외하고 제거하려면 조건을 조정할 수 있음)\n",
        "    cleaned = re.sub(r'[\\x00-\\x08\\x0B-\\x0C\\x0E-\\x1F]+', '', text)\n",
        "    # 양쪽 공백 제거 및 중복 공백을 단일 공백으로 변환\n",
        "    cleaned = re.sub(r'\\s+', ' ', cleaned).strip()\n",
        "    return cleaned\n",
        "\n",
        "def pdf_to_json(pdf_path, json_path):\n",
        "    data = []\n",
        "    with open(pdf_path, 'rb') as file:\n",
        "        reader = PyPDF2.PdfReader(file)\n",
        "        for i, page in enumerate(reader.pages):\n",
        "            raw_text = page.extract_text() or \"\"\n",
        "            # 정제 작업 수행\n",
        "            text = clean_text(raw_text)\n",
        "            data.append({\n",
        "                \"page_number\": i + 1,  # 페이지 번호는 1부터 시작\n",
        "                \"content\": text\n",
        "            })\n",
        "\n",
        "    with open(json_path, 'w', encoding='utf-8') as json_file:\n",
        "        json.dump(data, json_file, ensure_ascii=False, indent=4)\n",
        "\n",
        "# 예시 실행\n",
        "pdf_path = '/content/drive/MyDrive/Colab Notebooks/quiz-whale-ai/transformer.pdf'\n",
        "json_path = 'output2.json'\n",
        "pdf_to_json(pdf_path, json_path)"
      ],
      "metadata": {
        "id": "4iUhPiUKhjUZ"
      },
      "execution_count": 16,
      "outputs": []
    },
    {
      "cell_type": "code",
      "source": [],
      "metadata": {
        "id": "8axYz4yZmKBQ"
      },
      "execution_count": null,
      "outputs": []
    }
  ]
}