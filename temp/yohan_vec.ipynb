{
  "cells": [
    {
      "cell_type": "markdown",
      "metadata": {
        "colab_type": "text",
        "id": "view-in-github"
      },
      "source": [
        "<a href=\"https://colab.research.google.com/github/wint3rx3/quiz-whale-ai/blob/main/yohan.ipynb\" target=\"_parent\"><img src=\"https://colab.research.google.com/assets/colab-badge.svg\" alt=\"Open In Colab\"/></a>"
      ]
    },
    {
      "cell_type": "code",
      "execution_count": 1,
      "metadata": {
        "colab": {
          "base_uri": "https://localhost:8080/"
        },
        "id": "eUayqSxqe7pL",
        "outputId": "7c57d56d-79e0-423b-b1aa-53a423201361"
      },
      "outputs": [
        {
          "name": "stdout",
          "output_type": "stream",
          "text": [
            "Mounted at /content/drive\n"
          ]
        }
      ],
      "source": [
        "from google.colab import drive\n",
        "drive.mount('/content/drive')"
      ]
    },
    {
      "cell_type": "code",
      "execution_count": 2,
      "metadata": {
        "colab": {
          "base_uri": "https://localhost:8080/"
        },
        "id": "NCevhSJ8gHPp",
        "outputId": "0240f2b9-1dc7-4f14-f860-e6dfed894dee"
      },
      "outputs": [
        {
          "name": "stdout",
          "output_type": "stream",
          "text": [
            "/content/drive/MyDrive/Colab Notebooks\n"
          ]
        }
      ],
      "source": [
        "cd \"/content/drive/MyDrive/Colab Notebooks\""
      ]
    },
    {
      "cell_type": "code",
      "execution_count": 3,
      "metadata": {
        "colab": {
          "base_uri": "https://localhost:8080/"
        },
        "id": "yVEVE9zrgmSP",
        "outputId": "e3218496-7bde-4a43-9ef5-e3f8c185021c"
      },
      "outputs": [
        {
          "name": "stdout",
          "output_type": "stream",
          "text": [
            "fatal: destination path 'quiz-whale-ai' already exists and is not an empty directory.\n"
          ]
        }
      ],
      "source": [
        "!git clone https://github.com/wint3rx3/quiz-whale-ai"
      ]
    },
    {
      "cell_type": "code",
      "execution_count": 10,
      "metadata": {
        "colab": {
          "base_uri": "https://localhost:8080/"
        },
        "id": "P5RiYD7ugqty",
        "outputId": "0b6a0104-b61c-4b8c-fdee-41cf81c6dc3f"
      },
      "outputs": [
        {
          "name": "stdout",
          "output_type": "stream",
          "text": [
            "Collecting PyPDF2\n",
            "  Downloading pypdf2-3.0.1-py3-none-any.whl.metadata (6.8 kB)\n",
            "Downloading pypdf2-3.0.1-py3-none-any.whl (232 kB)\n",
            "\u001b[?25l   \u001b[90m━━━━━━━━━━━━━━━━━━━━━━━━━━━━━━━━━━━━━━━━\u001b[0m \u001b[32m0.0/232.6 kB\u001b[0m \u001b[31m?\u001b[0m eta \u001b[36m-:--:--\u001b[0m\r\u001b[2K   \u001b[90m━━━━━━━━━━━━━━━━━━━━━━━━━━━━━━━━━━━━━━━━\u001b[0m \u001b[32m232.6/232.6 kB\u001b[0m \u001b[31m11.7 MB/s\u001b[0m eta \u001b[36m0:00:00\u001b[0m\n",
            "\u001b[?25hInstalling collected packages: PyPDF2\n",
            "Successfully installed PyPDF2-3.0.1\n"
          ]
        }
      ],
      "source": [
        "pip install PyPDF2"
      ]
    },
    {
      "cell_type": "code",
      "execution_count": null,
      "metadata": {
        "id": "4iUhPiUKhjUZ"
      },
      "outputs": [],
      "source": [
        "import PyPDF2\n",
        "import json\n",
        "import re\n",
        "\n",
        "def process_equations(text):\n",
        "    \"\"\"\n",
        "    추출된 텍스트 내에서 수식으로 판단되는 부분을 Markdown 수식 형식으로 감쌉니다.\n",
        "    예시에서는 \\frac{...} 패턴이나 ∑, ∫ 기호가 포함된 경우 처리합니다.\n",
        "    이미 수식 형식($ 또는 $$)으로 감싸져 있다면 건드리지 않습니다.\n",
        "    \"\"\"\n",
        "    # \\frac 패턴이 있으면 블록 수식으로 처리\n",
        "    if re.search(r'\\\\frac\\{', text):\n",
        "        if not (text.startswith(\"$$\") and text.endswith(\"$$\")):\n",
        "            text = \"$$\" + text + \"$$\"\n",
        "    # 수학 기호가 포함된 경우 인라인 수식 처리\n",
        "    elif re.search(r'[∑∫]', text):\n",
        "        if not (text.startswith(\"$\") and text.endswith(\"$\")):\n",
        "            text = \"$\" + text + \"$\"\n",
        "    return text\n",
        "\n",
        "def clean_text(text):\n",
        "    \"\"\"\n",
        "    1. 제어 문자(ASCII 0~31) 제거 및 불필요한 공백 정리\n",
        "    2. 수식으로 보이는 부분을 process_equations()를 통해 Markdown 형식으로 감쌈\n",
        "    \"\"\"\n",
        "    cleaned = re.sub(r'[\\x00-\\x08\\x0B-\\x0C\\x0E-\\x1F]+', '', text)\n",
        "    cleaned = re.sub(r'\\s+', ' ', cleaned).strip()\n",
        "    cleaned = process_equations(cleaned)\n",
        "    return cleaned\n",
        "\n",
        "def pdf_to_json_range(pdf_path, json_path, start_page, end_page):\n",
        "    \"\"\"\n",
        "    PDF 파일(pdf_path)에서 start_page부터 end_page까지(포함) 텍스트를 추출하여,\n",
        "    각 페이지를 { \"page_number\": 실제 페이지 번호, \"content\": 정제된 텍스트 } 형태의 JSON 파일(json_path)로 저장합니다.\n",
        "    start_page와 end_page는 실제 PDF 상의 페이지 번호(1부터 시작)입니다.\n",
        "    \"\"\"\n",
        "    data = []\n",
        "    with open(pdf_path, 'rb') as file:\n",
        "        reader = PyPDF2.PdfReader(file)\n",
        "        total_pages = len(reader.pages)\n",
        "        if start_page < 1 or end_page > total_pages or start_page > end_page:\n",
        "            raise ValueError(f\"유효한 페이지 범위를 입력하세요 (1 ~ {total_pages})\")\n",
        "        \n",
        "        for page_number in range(start_page, end_page + 1):\n",
        "            raw_text = reader.pages[page_number - 1].extract_text() or \"\"\n",
        "            text = clean_text(raw_text)\n",
        "            data.append({\n",
        "                \"page_number\": page_number,\n",
        "                \"content\": text\n",
        "            })\n",
        "    \n",
        "    with open(json_path, 'w', encoding='utf-8') as json_file:\n",
        "        json.dump(data, json_file, ensure_ascii=False, indent=4)\n",
        "\n",
        "# 예시 실행: sample.pdf 파일의 3페이지부터 6페이지까지 추출\n",
        "pdf_path = '/content/drive/MyDrive/Colab Notebooks/quiz-whale-ai/transformer.pdf'\n",
        "json_path = 'sample.json'\n",
        "start_page = 1\n",
        "end_page = 11\n",
        "pdf_to_json_range(pdf_path, json_path, start_page, end_page)"
      ]
    },
    {
      "cell_type": "code",
      "execution_count": null,
      "metadata": {
        "id": "8axYz4yZmKBQ"
      },
      "outputs": [],
      "source": []
    }
  ],
  "metadata": {
    "colab": {
      "authorship_tag": "ABX9TyP0IMpmnTHbnT/ac15VDasN",
      "include_colab_link": true,
      "provenance": []
    },
    "kernelspec": {
      "display_name": "Python 3",
      "name": "python3"
    },
    "language_info": {
      "name": "python"
    }
  },
  "nbformat": 4,
  "nbformat_minor": 0
}
