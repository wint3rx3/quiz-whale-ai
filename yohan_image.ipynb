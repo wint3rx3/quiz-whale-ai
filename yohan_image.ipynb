{
  "nbformat": 4,
  "nbformat_minor": 0,
  "metadata": {
    "colab": {
      "provenance": [],
      "authorship_tag": "ABX9TyOultXDTCekoCm++amoqG2U",
      "include_colab_link": true
    },
    "kernelspec": {
      "name": "python3",
      "display_name": "Python 3"
    },
    "language_info": {
      "name": "python"
    }
  },
  "cells": [
    {
      "cell_type": "markdown",
      "metadata": {
        "id": "view-in-github",
        "colab_type": "text"
      },
      "source": [
        "<a href=\"https://colab.research.google.com/github/wint3rx3/quiz-whale-ai/blob/main/yohan_image.ipynb\" target=\"_parent\"><img src=\"https://colab.research.google.com/assets/colab-badge.svg\" alt=\"Open In Colab\"/></a>"
      ]
    },
    {
      "cell_type": "code",
      "source": [
        "!git clone https://github.com/wint3rx3/quiz-whale-ai"
      ],
      "metadata": {
        "colab": {
          "base_uri": "https://localhost:8080/"
        },
        "id": "yVEVE9zrgmSP",
        "outputId": "307b0b8f-2ed6-4b02-e73a-fc912785bc5e"
      },
      "execution_count": 1,
      "outputs": [
        {
          "output_type": "stream",
          "name": "stdout",
          "text": [
            "Cloning into 'quiz-whale-ai'...\n",
            "remote: Enumerating objects: 36, done.\u001b[K\n",
            "remote: Counting objects: 100% (36/36), done.\u001b[K\n",
            "remote: Compressing objects: 100% (30/30), done.\u001b[K\n",
            "remote: Total 36 (delta 12), reused 14 (delta 3), pack-reused 0 (from 0)\u001b[K\n",
            "Receiving objects: 100% (36/36), 28.97 KiB | 4.83 MiB/s, done.\n",
            "Resolving deltas: 100% (12/12), done.\n"
          ]
        }
      ]
    },
    {
      "cell_type": "code",
      "source": [
        "cd content/quiz-whale-ai/yohan_image.ipynb"
      ],
      "metadata": {
        "colab": {
          "base_uri": "https://localhost:8080/"
        },
        "id": "UxwogkheGilI",
        "outputId": "4d09f1b9-3982-496f-9388-d863f79c6c52"
      },
      "execution_count": 4,
      "outputs": [
        {
          "output_type": "stream",
          "name": "stdout",
          "text": [
            "[Errno 2] No such file or directory: 'content/quiz-whale-ai/yohan_image.ipynb'\n",
            "/content\n"
          ]
        }
      ]
    },
    {
      "cell_type": "code",
      "source": [
        "import os\n",
        "from pdf2image import convert_from_path\n",
        "import numpy as np\n",
        "from extraction.yolo_detection import process_image"
      ],
      "metadata": {
        "colab": {
          "base_uri": "https://localhost:8080/",
          "height": 391
        },
        "id": "NoXNY_pFGXLa",
        "outputId": "eaf6504a-1ca4-4294-f9d6-1da9eff5499f"
      },
      "execution_count": 2,
      "outputs": [
        {
          "output_type": "error",
          "ename": "ModuleNotFoundError",
          "evalue": "No module named 'pdf2image'",
          "traceback": [
            "\u001b[0;31m---------------------------------------------------------------------------\u001b[0m",
            "\u001b[0;31mModuleNotFoundError\u001b[0m                       Traceback (most recent call last)",
            "\u001b[0;32m<ipython-input-2-ff69a78e448b>\u001b[0m in \u001b[0;36m<cell line: 0>\u001b[0;34m()\u001b[0m\n\u001b[1;32m      1\u001b[0m \u001b[0;32mimport\u001b[0m \u001b[0mos\u001b[0m\u001b[0;34m\u001b[0m\u001b[0;34m\u001b[0m\u001b[0m\n\u001b[0;32m----> 2\u001b[0;31m \u001b[0;32mfrom\u001b[0m \u001b[0mpdf2image\u001b[0m \u001b[0;32mimport\u001b[0m \u001b[0mconvert_from_path\u001b[0m\u001b[0;34m\u001b[0m\u001b[0;34m\u001b[0m\u001b[0m\n\u001b[0m\u001b[1;32m      3\u001b[0m \u001b[0;32mimport\u001b[0m \u001b[0mnumpy\u001b[0m \u001b[0;32mas\u001b[0m \u001b[0mnp\u001b[0m\u001b[0;34m\u001b[0m\u001b[0;34m\u001b[0m\u001b[0m\n\u001b[1;32m      4\u001b[0m \u001b[0;32mfrom\u001b[0m \u001b[0mextraction\u001b[0m\u001b[0;34m.\u001b[0m\u001b[0myolo_detection\u001b[0m \u001b[0;32mimport\u001b[0m \u001b[0mprocess_image\u001b[0m\u001b[0;34m\u001b[0m\u001b[0;34m\u001b[0m\u001b[0m\n",
            "\u001b[0;31mModuleNotFoundError\u001b[0m: No module named 'pdf2image'",
            "",
            "\u001b[0;31m---------------------------------------------------------------------------\u001b[0;32m\nNOTE: If your import is failing due to a missing package, you can\nmanually install dependencies using either !pip or !apt.\n\nTo view examples of installing some common dependencies, click the\n\"Open Examples\" button below.\n\u001b[0;31m---------------------------------------------------------------------------\u001b[0m\n"
          ],
          "errorDetails": {
            "actions": [
              {
                "action": "open_url",
                "actionText": "Open Examples",
                "url": "/notebooks/snippets/importing_libraries.ipynb"
              }
            ]
          }
        }
      ]
    },
    {
      "cell_type": "code",
      "source": [
        "def pdf_to_images(pdf_path, dpi=300):\n",
        "    \"\"\"\n",
        "    PDF 파일을 페이지별 이미지(PIL Image)로 변환합니다.\n",
        "\n",
        "    :param pdf_path: PDF 파일 경로\n",
        "    :param dpi: 변환 해상도 (기본값: 300)\n",
        "    :return: PIL Image 객체 리스트\n",
        "    \"\"\"\n",
        "    images = convert_from_path(pdf_path, dpi=dpi)\n",
        "    print(f\"PDF를 {len(images)} 페이지 이미지로 변환하였습니다.\")\n",
        "    return images\n",
        "\n",
        "    def process_pdf(pdf_path, model, dpi=300):\n",
        "    \"\"\"\n",
        "    PDF 파일을 페이지별 이미지로 변환한 후,\n",
        "    각 페이지에서 YOLO 모델을 이용해 영역(박스)를 검출합니다.\n",
        "\n",
        "    :param pdf_path: PDF 파일 경로\n",
        "    :param model: 로드된 YOLO 모델\n",
        "    :param dpi: 변환 해상도\n",
        "    :return: (이미지 리스트, 모든 페이지의 검출 결과 리스트)\n",
        "    \"\"\"\n",
        "    images = pdf_to_images(pdf_path, dpi=dpi)\n",
        "    all_detections = []\n",
        "    for page_number, image in enumerate(images, start=1):\n",
        "        detections = process_image(image, model, page_number)\n",
        "        all_detections.append(detections)\n",
        "    return images, all_detections"
      ],
      "metadata": {
        "id": "4iUhPiUKhjUZ"
      },
      "execution_count": 19,
      "outputs": []
    },
    {
      "cell_type": "code",
      "source": [],
      "metadata": {
        "id": "8axYz4yZmKBQ"
      },
      "execution_count": null,
      "outputs": []
    }
  ]
}